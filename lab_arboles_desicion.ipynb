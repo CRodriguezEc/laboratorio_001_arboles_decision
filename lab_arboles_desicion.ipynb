{
 "cells": [
  {
   "cell_type": "code",
   "execution_count": null,
   "metadata": {},
   "outputs": [],
   "source": [
    "#   Importamos la libreria pandas para la lectura de archivos\n",
    "import pandas as pd\n",
    "\n",
    "#   Librerias para graficar los datos\n",
    "import pandas.plotting as lbPlotting\n",
    "\n",
    "#   Libreria para crear figuras en python\n",
    "import matplotlib.pyplot as plt\n",
    "\n",
    "#\n",
    "import seaborn as sns\n",
    "\n",
    "#   abrimos el archivo con el DataSet, y especificamos que cada registro esta delimintado por \";\"\n",
    "df = pd.read_csv( \"Laboratorio_dataset_car.csv\", delimiter = \";\" )"
   ]
  },
  {
   "cell_type": "code",
   "execution_count": null,
   "metadata": {},
   "outputs": [],
   "source": [
    "#   Muestro un resumen del numero de filas y columnas del archivo (Dimensionalidad de nuestro DataSet) \n",
    "print( df.shape )"
   ]
  },
  {
   "cell_type": "code",
   "execution_count": null,
   "metadata": {},
   "outputs": [],
   "source": [
    "#   Muestro las tres(3) primeras lineas del archivo\n",
    "print( df.head(10) )"
   ]
  },
  {
   "cell_type": "code",
   "execution_count": null,
   "metadata": {},
   "outputs": [],
   "source": [
    "#   Muestro de manera aleatoria 25 registros con la finalidad de ver un estado general de los archivos\n",
    "print( df.sample(25) )"
   ]
  },
  {
   "cell_type": "code",
   "execution_count": null,
   "metadata": {},
   "outputs": [],
   "source": [
    "#   Muestro el resumen estadistico de los datos\n",
    "print( df.describe() )"
   ]
  },
  {
   "cell_type": "code",
   "execution_count": null,
   "metadata": {},
   "outputs": [],
   "source": [
    "#   Muestro la estructura del DataSet\n",
    "print( df.info() )"
   ]
  },
  {
   "cell_type": "code",
   "execution_count": null,
   "metadata": {},
   "outputs": [],
   "source": [
    "#   Identificamos si existen valores nulos\n",
    "df.isnull().sum()"
   ]
  },
  {
   "cell_type": "code",
   "execution_count": null,
   "metadata": {},
   "outputs": [],
   "source": [
    "#   Distribucion por clases\n",
    "print( df.groupby('class').size() )"
   ]
  },
  {
   "cell_type": "code",
   "execution_count": null,
   "metadata": {},
   "outputs": [],
   "source": [
    "#   Al momento de determinar la distribucion de valores de la \"clase\" se identifica que los valores de los atributos \n",
    "#   no se encuentran bien distribuidos, como es el caso del atributo \"Unacc\", lo cual se evidencia de mejor manera \n",
    "#   mediante el siguiente grafico.\n",
    "\n",
    "sns.countplot( x = df[\"class\"], data = df )"
   ]
  },
  {
   "cell_type": "code",
   "execution_count": null,
   "metadata": {},
   "outputs": [],
   "source": [
    "#   Recordemos que los algoritmos de sklearn 'no' trabajan con variables categoricas, como en este caso, \n",
    "#   por lo que es necesario transformar la informacion de valores numericos.\n",
    "\n",
    "from sklearn.preprocessing import LabelEncoder\n",
    "le = LabelEncoder()\n",
    "for i in df.columns:\n",
    "    df[i] = le.fit_transform( df[i] )\n",
    "\n",
    "df.sample(10)"
   ]
  },
  {
   "cell_type": "code",
   "execution_count": null,
   "metadata": {},
   "outputs": [],
   "source": [
    "from sklearn.model_selection import train_test_split\n",
    "from sklearn.model_selection import cross_val_score\n",
    "from sklearn.model_selection import StratifiedKFold\n",
    "from sklearn.linear_model import LogisticRegression\n",
    "from sklearn.tree import DecisionTreeClassifier"
   ]
  },
  {
   "cell_type": "code",
   "execution_count": null,
   "metadata": {},
   "outputs": [],
   "source": [
    "X = df[df.columns[:-1]]\n",
    "y = df['class']\n",
    "\n",
    "#   Dividimos el dataset en 80% de los datos para entrenar y 20% para test   \n",
    "X_train, X_validation, Y_train, Y_validation = train_test_split( X, y, test_size = 0.2, random_state = 1, shuffle = True )"
   ]
  },
  {
   "cell_type": "code",
   "execution_count": null,
   "metadata": {},
   "outputs": [],
   "source": [
    "#   Cargamos los algoritmos\n",
    "#   models = []\n",
    "#   models.append( ( 'LR', LogisticRegression( solver = 'liblinear', multi_class = 'ovr' ) ) )\n",
    "#   models.append( ( 'CART', DecisionTreeClassifier() ) )"
   ]
  },
  {
   "cell_type": "code",
   "execution_count": null,
   "metadata": {},
   "outputs": [],
   "source": [
    "#   Evaluamos los modelos Logistic Regresion, y CART\n",
    "#   results = []\n",
    "#   names = []\n",
    "#   for name, model in models:\n",
    "    #   kfold = StratifiedKFold( n_splits = 10, shuffle = True, random_state = 1 )\n",
    "    #   cv_results = cross_val_score( model, X_train, Y_train, cv = kfold, scoring = 'accuracy' )\n",
    "    #   results.append( cv_results )\n",
    "    #   names.append(name)\n",
    "    #   print( '%s: %f (%f)' % ( name, cv_results.mean(), cv_results.std() ) )"
   ]
  },
  {
   "cell_type": "code",
   "execution_count": null,
   "metadata": {},
   "outputs": [],
   "source": [
    "#   from matplotlib import pyplot\n",
    "#   pyplot.boxplot( results, labels = names )\n",
    "#   pyplot.title( 'Comparación de algoritmos' )\n",
    "#   pyplot.show()"
   ]
  },
  {
   "cell_type": "code",
   "execution_count": null,
   "metadata": {},
   "outputs": [],
   "source": [
    "#   Realizamos predicciones con el dataset validacion\n",
    "from sklearn.metrics import classification_report\n",
    "from sklearn.metrics import confusion_matrix\n",
    "from sklearn.metrics import accuracy_score\n",
    "\n",
    "model = DecisionTreeClassifier()\n",
    "model.fit( X_train, Y_train )\n",
    "predictions = model.predict( X_validation )"
   ]
  },
  {
   "cell_type": "code",
   "execution_count": null,
   "metadata": {},
   "outputs": [],
   "source": [
    "#   Evaluamos la exactitud (accuracy) las predicciones, en primer lugar la precision obtenida\n",
    "print( accuracy_score( Y_validation, predictions ) )"
   ]
  },
  {
   "cell_type": "code",
   "execution_count": 138,
   "metadata": {},
   "outputs": [
    {
     "name": "stdout",
     "output_type": "stream",
     "text": [
      "[[ 71   4   2   0]\n",
      " [  1  17   0   0]\n",
      " [  2   1 242   0]\n",
      " [  0   0   0  10]]\n"
     ]
    }
   ],
   "source": [
    "#   Ahora elaboramos la matriz de confusion\n",
    "cfn_matrix = confusion_matrix( Y_validation, predictions )\n",
    "print( cfn_matrix )"
   ]
  },
  {
   "cell_type": "code",
   "execution_count": null,
   "metadata": {},
   "outputs": [],
   "source": [
    "import numpy as np\n",
    "\n",
    "class_names = [0,1]\n",
    "\n",
    "#   Obtenemos las variables figura y ejes del gráfico (nos permite cambiar los atributos propios de cada seccion)\n",
    "fig,ax = plt.subplots() \n",
    "\n",
    "#definimos los valores que van a tener las líneas de guía\n",
    "tick_marks = np.arange( len( class_names ) )  \n",
    "plt.xticks(tick_marks, class_names)\n",
    "\n",
    "#definimos los tick marks en el gráfico\n",
    "plt.yticks(tick_marks, class_names) \n",
    "\n",
    "# Vamos a mostrar la matriz de confusión utilizando la libreria seaborn\n",
    "sns.heatmap( pd.DataFrame( cfn_matrix ), annot = True, cmap = 'Blues_r', fmt = 'g' )\n",
    "ax.xaxis.set_label_position('top')\n",
    "\n",
    "plt.tight_layout()\n",
    "plt.title( 'Matriz de confusión', y = 1.1 )\n",
    "plt.ylabel( 'Etiqueta Actual' )\n",
    "plt.xlabel( 'Etiqueta de Predicción' )"
   ]
  },
  {
   "cell_type": "code",
   "execution_count": null,
   "metadata": {},
   "outputs": [],
   "source": [
    "#   Informe de clasificacion\n",
    "print( classification_report( Y_validation, predictions ) )"
   ]
  }
 ],
 "metadata": {
  "kernelspec": {
   "display_name": "Python 3.11.0 64-bit",
   "language": "python",
   "name": "python3"
  },
  "language_info": {
   "codemirror_mode": {
    "name": "ipython",
    "version": 3
   },
   "file_extension": ".py",
   "mimetype": "text/x-python",
   "name": "python",
   "nbconvert_exporter": "python",
   "pygments_lexer": "ipython3",
   "version": "3.11.0"
  },
  "orig_nbformat": 4,
  "vscode": {
   "interpreter": {
    "hash": "5238573367df39f7286bb46f9ff5f08f63a01a80960060ce41e3c79b190280fa"
   }
  }
 },
 "nbformat": 4,
 "nbformat_minor": 2
}
