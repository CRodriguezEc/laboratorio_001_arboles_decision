{
 "cells": [
  {
   "cell_type": "code",
   "execution_count": null,
   "metadata": {},
   "outputs": [],
   "source": [
    "#   Lmportamos la libreria pandas para la lectura de archivos\n",
    "import pandas as pd\n",
    "\n",
    "#   Librerias para graficar los datos\n",
    "import pandas.plotting as lbPlotting\n",
    "\n",
    "#   Libreria para crear figuras en python\n",
    "import matplotlib.pyplot as plt\n",
    "\n",
    "#   abrimos el archivo con el DataSet, y especificamos que cada registro esta delimintado por \";\"\n",
    "df = pd.read_csv( \"Laboratorio_dataset_car.csv\", delimiter = \";\" )"
   ]
  },
  {
   "cell_type": "code",
   "execution_count": null,
   "metadata": {},
   "outputs": [],
   "source": [
    "#   Muestro un resumen del numero de filas y columnas del archivo (Dimensionalidad de nuestro DataSet) \n",
    "print( df.shape )"
   ]
  },
  {
   "cell_type": "code",
   "execution_count": null,
   "metadata": {},
   "outputs": [],
   "source": [
    "#   Muestro las tres(3) primeras lineas del archivo\n",
    "print( df.head(10) )"
   ]
  },
  {
   "cell_type": "code",
   "execution_count": null,
   "metadata": {},
   "outputs": [],
   "source": [
    "#   Muestro de manera aleatoria 25 registros con la finalidad de ver un estado general de los archivos\n",
    "print( df.sample(25) )"
   ]
  },
  {
   "cell_type": "code",
   "execution_count": null,
   "metadata": {},
   "outputs": [],
   "source": [
    "#   Muestro el resumen estadistico de los datos\n",
    "print( df.describe() )"
   ]
  },
  {
   "cell_type": "code",
   "execution_count": null,
   "metadata": {},
   "outputs": [],
   "source": [
    "#   Muestro la estructura del DataSet\n",
    "print( df.info() )"
   ]
  },
  {
   "cell_type": "code",
   "execution_count": null,
   "metadata": {},
   "outputs": [],
   "source": [
    "#   Distribucion por clases\n",
    "print( df.groupby('class').size() )"
   ]
  },
  {
   "cell_type": "code",
   "execution_count": null,
   "metadata": {},
   "outputs": [],
   "source": [
    "#   identificamos si existen valores nulos\n",
    "df.isnull().sum()"
   ]
  }
 ],
 "metadata": {
  "kernelspec": {
   "display_name": "Python 3.11.0 64-bit",
   "language": "python",
   "name": "python3"
  },
  "language_info": {
   "codemirror_mode": {
    "name": "ipython",
    "version": 3
   },
   "file_extension": ".py",
   "mimetype": "text/x-python",
   "name": "python",
   "nbconvert_exporter": "python",
   "pygments_lexer": "ipython3",
   "version": "3.11.0"
  },
  "orig_nbformat": 4,
  "vscode": {
   "interpreter": {
    "hash": "5238573367df39f7286bb46f9ff5f08f63a01a80960060ce41e3c79b190280fa"
   }
  }
 },
 "nbformat": 4,
 "nbformat_minor": 2
}
